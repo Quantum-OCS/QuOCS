{
 "cells": [
  {
   "cell_type": "code",
   "execution_count": 1,
   "metadata": {},
   "outputs": [],
   "source": [
    "from diffrax import diffeqsolve, ODETerm, Dopri5\n",
    "import jax.numpy as jnp\n",
    "import jax\n",
    "from jax import jit"
   ]
  },
  {
   "cell_type": "code",
   "execution_count": 2,
   "metadata": {},
   "outputs": [
    {
     "name": "stderr",
     "output_type": "stream",
     "text": [
      "No GPU/TPU found, falling back to CPU. (Set TF_CPP_MIN_LOG_LEVEL=0 and rerun for more info.)\n"
     ]
    }
   ],
   "source": [
    "@jit\n",
    "def f(t, y, args):\n",
    "    # jax.debug.print(\"y: {}\", y)\n",
    "    return -y\n",
    "\n",
    "term = ODETerm(f)\n",
    "solver = Dopri5()\n",
    "y0 = jnp.array([2., 3.])\n",
    "solution = diffeqsolve(term, solver, t0=0, t1=1, dt0=0.1, y0=y0)"
   ]
  },
  {
   "cell_type": "code",
   "execution_count": 3,
   "metadata": {},
   "outputs": [
    {
     "data": {
      "text/plain": [
       "Solution(\n",
       "  t0=f32[],\n",
       "  t1=f32[],\n",
       "  ts=f32[1],\n",
       "  ys=f32[1,2],\n",
       "  interpolation=None,\n",
       "  stats={\n",
       "    'max_steps':\n",
       "    i32[],\n",
       "    'num_accepted_steps':\n",
       "    i32[],\n",
       "    'num_rejected_steps':\n",
       "    i32[],\n",
       "    'num_steps':\n",
       "    i32[]\n",
       "  },\n",
       "  result=i32[],\n",
       "  solver_state=None,\n",
       "  controller_state=None,\n",
       "  made_jump=None\n",
       ")"
      ]
     },
     "execution_count": 3,
     "metadata": {},
     "output_type": "execute_result"
    }
   ],
   "source": [
    "solution"
   ]
  },
  {
   "cell_type": "markdown",
   "metadata": {},
   "source": [
    "## Qutip example"
   ]
  },
  {
   "cell_type": "code",
   "execution_count": 4,
   "metadata": {},
   "outputs": [],
   "source": [
    "import numpy as np\n",
    "import matplotlib.pyplot as plt\n",
    "import qutip as qu\n",
    "\n",
    "# Define Pauli matrices\n",
    "sigma_x = qu.sigmax()\n",
    "sigma_y = qu.sigmay()\n",
    "sigma_z = qu.sigmaz()\n",
    "\n",
    "# Define Hamiltonian (H = omega * sigma_x / 2)\n",
    "omega = 1.0\n",
    "H = omega * sigma_x / 2\n",
    "\n",
    "# Initial state (|0>)\n",
    "psi0 = qu.basis(2, 0)\n",
    "\n",
    "# Initial propagator\n",
    "U0 = qu.identity(2)\n",
    "\n",
    "# Time list\n",
    "times = np.linspace(0, 10, 100)\n",
    "\n",
    "\n"
   ]
  },
  {
   "cell_type": "code",
   "execution_count": 5,
   "metadata": {},
   "outputs": [],
   "source": [
    "# Solve Schrodinger equation\n",
    "result = qu.mesolve(H, psi0, times, [], [sigma_x, sigma_y, sigma_z])"
   ]
  },
  {
   "cell_type": "code",
   "execution_count": 6,
   "metadata": {},
   "outputs": [
    {
     "data": {
      "image/png": "[encoded data removed]",
      "text/plain": [
       "<Figure size 432x288 with 1 Axes>"
      ]
     },
     "metadata": {
      "needs_background": "light"
     },
     "output_type": "display_data"
    }
   ],
   "source": [
    "# Plot the results\n",
    "plt.figure()\n",
    "plt.plot(times, result.expect[0], label=\"Expectation $\\sigma_x$\")\n",
    "plt.plot(times, result.expect[1], label=\"Expectation $\\sigma_y$\")\n",
    "plt.plot(times, result.expect[2], label=\"Expectation $\\sigma_z$\")\n",
    "plt.xlabel('Time')\n",
    "plt.ylabel('Expectation values')\n",
    "plt.legend()\n",
    "plt.show()"
   ]
  },
  {
   "cell_type": "code",
   "execution_count": 7,
   "metadata": {},
   "outputs": [],
   "source": [
    "# Solve Schrodinger equation\n",
    "result = qu.mesolve(H, psi0, times)\n",
    "# Take the final state\n",
    "final_state = result.states[-1]"
   ]
  },
  {
   "cell_type": "code",
   "execution_count": 8,
   "metadata": {},
   "outputs": [
    {
     "data": {
      "text/plain": [
       "array([[0.28365322+0.j        ],\n",
       "       [0.        +0.95892693j]])"
      ]
     },
     "execution_count": 8,
     "metadata": {},
     "output_type": "execute_result"
    }
   ],
   "source": [
    "final_state.full()"
   ]
  },
  {
   "cell_type": "code",
   "execution_count": 9,
   "metadata": {},
   "outputs": [],
   "source": [
    "# Take the final propagator\n",
    "U_T = qu.propagator(H, times)[-1]"
   ]
  },
  {
   "cell_type": "code",
   "execution_count": 10,
   "metadata": {},
   "outputs": [
    {
     "data": {
      "text/plain": [
       "array([[0.28366625+0.j        , 0.        +0.95892307j],\n",
       "       [0.        +0.95892307j, 0.28366625+0.j        ]])"
      ]
     },
     "execution_count": 10,
     "metadata": {},
     "output_type": "execute_result"
    }
   ],
   "source": [
    "U_T.full()"
   ]
  },
  {
   "cell_type": "markdown",
   "metadata": {},
   "source": [
    "## Diffrax propagator solver"
   ]
  },
  {
   "cell_type": "code",
   "execution_count": 11,
   "metadata": {},
   "outputs": [],
   "source": [
    "# Convert all the qutip object in jax objects\n",
    "H_jax = jnp.array(H.full())\n",
    "psi0_jax = jnp.array(psi0.full())\n",
    "times_jax = jnp.array(times)\n",
    "U0_jax = jnp.array(U0.full())\n",
    "\n",
    "# Consider the isomorphism to map the Schroedinger equation into a real valued system\n",
    "H_iso_jax = jnp.kron(jnp.eye(2), jnp.imag(H_jax)) + jnp.kron(jnp.array([[0, 1], [-1, 0]]), jnp.real(H_jax))\n",
    "\n",
    "# Define the initial state to be consistent with the isomorphism, i.e. \n",
    "psi_0_iso_jax = jnp.kron(jnp.array([1, 0]), jnp.real(psi0_jax)) + jnp.kron(jnp.array([0, 1]), jnp.imag(psi0_jax))\n",
    "U0_iso_jax = jnp.kron(jnp.array([1, 0]), jnp.real(U0_jax)) + jnp.kron(jnp.array([0, 1]), jnp.imag(U0_jax))\n"
   ]
  },
  {
   "cell_type": "code",
   "execution_count": 12,
   "metadata": {},
   "outputs": [
    {
     "data": {
      "text/plain": [
       "(4, 4)"
      ]
     },
     "execution_count": 12,
     "metadata": {},
     "output_type": "execute_result"
    }
   ],
   "source": [
    "H_iso_jax.shape"
   ]
  },
  {
   "cell_type": "code",
   "execution_count": 13,
   "metadata": {},
   "outputs": [
    {
     "data": {
      "text/plain": [
       "(2, 2)"
      ]
     },
     "execution_count": 13,
     "metadata": {},
     "output_type": "execute_result"
    }
   ],
   "source": [
    "psi_0_iso_jax.shape"
   ]
  },
  {
   "cell_type": "code",
   "execution_count": 14,
   "metadata": {},
   "outputs": [],
   "source": [
    "# Reshape psi_0_iso_jax\n",
    "psi_0_iso_reshaped_jax = psi_0_iso_jax.reshape((4, ))"
   ]
  },
  {
   "cell_type": "code",
   "execution_count": 15,
   "metadata": {},
   "outputs": [
    {
     "data": {
      "text/plain": [
       "Array([ 0. ,  0. ,  0. , -0.5], dtype=float32)"
      ]
     },
     "execution_count": 15,
     "metadata": {},
     "output_type": "execute_result"
    }
   ],
   "source": [
    "H_iso_jax @ psi_0_iso_reshaped_jax"
   ]
  },
  {
   "cell_type": "code",
   "execution_count": 16,
   "metadata": {},
   "outputs": [],
   "source": [
    "from functools import partial\n",
    "from diffrax import diffeqsolve, ODETerm, SaveAt, Tsit5"
   ]
  },
  {
   "cell_type": "code",
   "execution_count": 17,
   "metadata": {},
   "outputs": [
    {
     "data": {
      "text/plain": [
       "Array([[0. +0.j, 0.5+0.j],\n",
       "       [0.5+0.j, 0. +0.j]], dtype=complex64)"
      ]
     },
     "execution_count": 17,
     "metadata": {},
     "output_type": "execute_result"
    }
   ],
   "source": [
    "H_jax"
   ]
  },
  {
   "cell_type": "code",
   "execution_count": 18,
   "metadata": {},
   "outputs": [
    {
     "data": {
      "text/plain": [
       "Array([[ 0. ,  0. ,  0. ,  0.5],\n",
       "       [ 0. ,  0. ,  0.5,  0. ],\n",
       "       [ 0. , -0.5,  0. ,  0. ],\n",
       "       [-0.5,  0. ,  0. ,  0. ]], dtype=float32)"
      ]
     },
     "execution_count": 18,
     "metadata": {},
     "output_type": "execute_result"
    }
   ],
   "source": [
    "H_iso_jax"
   ]
  },
  {
   "cell_type": "code",
   "execution_count": 19,
   "metadata": {},
   "outputs": [],
   "source": [
    "# Define the function to compute the derivative of the state\n",
    "\n",
    "def f_qu(t, psi, args):\n",
    "    # jax.debug.print(\"psi: {}\", psi)\n",
    "    H, = args\n",
    "    return jnp.matmul(H, psi)\n",
    "\n",
    "term = ODETerm(f_qu)\n",
    "solver = Tsit5()\n"
   ]
  },
  {
   "cell_type": "code",
   "execution_count": 20,
   "metadata": {},
   "outputs": [],
   "source": [
    "# Compute the solution using the jax solver\n",
    "solution = diffeqsolve(term, solver, t0=0.0, t1=10.0, dt0=0.005, y0=psi_0_iso_reshaped_jax, args = (H_iso_jax,))\n"
   ]
  },
  {
   "cell_type": "code",
   "execution_count": 21,
   "metadata": {},
   "outputs": [
    {
     "data": {
      "text/plain": [
       "Array([[0.28366348, 0.        , 0.        , 0.9589276 ]],      dtype=float32, weak_type=True)"
      ]
     },
     "execution_count": 21,
     "metadata": {},
     "output_type": "execute_result"
    }
   ],
   "source": [
    "solution.ys"
   ]
  },
  {
   "cell_type": "code",
   "execution_count": 22,
   "metadata": {},
   "outputs": [],
   "source": [
    "# Define the function to compute the derivative of the state\n",
    "\n",
    "def f_qu(t, U, args):\n",
    "    # jax.debug.print(\"U: {}\", U)\n",
    "    H, = args\n",
    "    return jnp.matmul(H, U)\n",
    "\n",
    "term = ODETerm(f_qu)\n",
    "solver = Tsit5()"
   ]
  },
  {
   "cell_type": "code",
   "execution_count": 23,
   "metadata": {},
   "outputs": [],
   "source": [
    "U0_iso_jax_reshaped = U0_iso_jax.T"
   ]
  },
  {
   "cell_type": "code",
   "execution_count": 24,
   "metadata": {},
   "outputs": [
    {
     "data": {
      "text/plain": [
       "Array([[1., 0.],\n",
       "       [0., 1.],\n",
       "       [0., 0.],\n",
       "       [0., 0.]], dtype=float32)"
      ]
     },
     "execution_count": 24,
     "metadata": {},
     "output_type": "execute_result"
    }
   ],
   "source": [
    "U0_iso_jax_reshaped"
   ]
  },
  {
   "cell_type": "code",
   "execution_count": 25,
   "metadata": {},
   "outputs": [
    {
     "data": {
      "text/plain": [
       "Array([[ 0. ,  0. ],\n",
       "       [ 0. ,  0. ],\n",
       "       [ 0. , -0.5],\n",
       "       [-0.5,  0. ]], dtype=float32)"
      ]
     },
     "execution_count": 25,
     "metadata": {},
     "output_type": "execute_result"
    }
   ],
   "source": [
    "jnp.matmul(H_iso_jax, U0_iso_jax_reshaped)"
   ]
  },
  {
   "cell_type": "code",
   "execution_count": 26,
   "metadata": {},
   "outputs": [],
   "source": [
    "# Compute the solution using the jax solver\n",
    "solution = diffeqsolve(term, solver, t0=0.0, t1=10.0, dt0=0.005, y0=U0_iso_jax_reshaped, args = (H_iso_jax,))"
   ]
  },
  {
   "cell_type": "code",
   "execution_count": 27,
   "metadata": {},
   "outputs": [
    {
     "data": {
      "text/plain": [
       "Array([[[0.28366277, 0.        ],\n",
       "        [0.        , 0.28366277],\n",
       "        [0.        , 0.95892495],\n",
       "        [0.95892495, 0.        ]]], dtype=float32, weak_type=True)"
      ]
     },
     "execution_count": 27,
     "metadata": {},
     "output_type": "execute_result"
    }
   ],
   "source": [
    "solution.ys"
   ]
  },
  {
   "cell_type": "code",
   "execution_count": null,
   "metadata": {},
   "outputs": [],
   "source": []
  }
 ],
 "metadata": {
  "kernelspec": {
   "display_name": "quocsproj2",
   "language": "python",
   "name": "python3"
  },
  "language_info": {
   "codemirror_mode": {
    "name": "ipython",
    "version": 3
   },
   "file_extension": ".py",
   "mimetype": "text/x-python",
   "name": "python",
   "nbconvert_exporter": "python",
   "pygments_lexer": "ipython3",
   "version": "3.8.11"
  }
 },
 "nbformat": 4,
 "nbformat_minor": 2
}
